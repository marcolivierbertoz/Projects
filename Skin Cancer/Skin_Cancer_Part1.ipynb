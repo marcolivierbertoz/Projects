{
 "cells": [
  {
   "cell_type": "markdown",
   "metadata": {},
   "source": [
    "# Skin Cancer: Malignant vs Benign - Part 1 Extracting data\n",
    "\n",
    "## Introduction\n",
    "This is a Data Science project , which aim on training a Machine Model from the _Scikit-Learn_ library to detect the two type of skin cancer.\n",
    "\n",
    ">**Attention**: The use of this work for medical diagnosis is forbidden. If you thing you have a medical issue, please reach out to your family doctor or a specialist.\n",
    "The author of this project does not take any respinsability for any kind of misuse of the data/results that this project will create.\n",
    "\n",
    "In this first part, it will be extracted the data form the images, then in hte second, it will be applied the machine learning model.\n",
    "## Data\n",
    "The data have been retrieved from the following _Kaggle_ data set, provided by the user _Claudio Fanconi_:\n",
    "https://www.kaggle.com/fanconic/skin-cancer-malignant-vs-benign\n",
    "\n",
    "The Data is composed by two different folder:\n",
    "* Train\n",
    "* Test\n",
    "\n",
    "Each one of them with two subfolders of the different type of skin cancer.\n",
    "\n",
    "Given the fact that the creator of this project is not a medic, it will be provided a definiton for the two types of cancer here below, provided by the website _Medical News Today_ (Link: https://www.medicalnewstoday.com/articles/249141):\n",
    "\n",
    "* **Benign**: These are not cancerous. They either cannot spread or grow, or they do so very slowly. If a doctor removes them, they do not generally return;\n",
    "* **Malignant**: Malignant tumors are cancerous. The cells can grow and spread to other parts of the body.\n",
    "\n",
    "## Strategy\n",
    "Given the fact that the data are images, first it will be needed to retrive the features of the different images, using a Keras and Tensorflow library, then it will be trained a machine model that will be tested at the end.\n"
   ]
  },
  {
   "cell_type": "markdown",
   "metadata": {},
   "source": [
    "## Loading the libraries"
   ]
  },
  {
   "cell_type": "code",
   "execution_count": 1,
   "metadata": {},
   "outputs": [
    {
     "name": "stderr",
     "output_type": "stream",
     "text": [
      "C:\\Users\\admin\\anaconda3\\envs\\exts-ml\\lib\\site-packages\\h5py\\__init__.py:36: FutureWarning: Conversion of the second argument of issubdtype from `float` to `np.floating` is deprecated. In future, it will be treated as `np.float64 == np.dtype(float).type`.\n",
      "  from ._conv import register_converters as _register_converters\n",
      "WARNING:absl:Some hub symbols are not available because TensorFlow version is less than 1.14\n"
     ]
    }
   ],
   "source": [
    "# Here will be loaded the different libraries that will be used for the project\n",
    "import tensorflow as tf\n",
    "import tensorflow_hub as hub\n",
    "import numpy as np\n",
    "import PIL.Image as Image\n",
    "from tensorflow.keras.preprocessing.image import ImageDataGenerator"
   ]
  },
  {
   "cell_type": "code",
   "execution_count": 2,
   "metadata": {},
   "outputs": [
    {
     "name": "stdout",
     "output_type": "stream",
     "text": [
      "INFO:tensorflow:Saver not created because there are no variables in the graph to restore\n"
     ]
    },
    {
     "name": "stderr",
     "output_type": "stream",
     "text": [
      "INFO:tensorflow:Saver not created because there are no variables in the graph to restore\n"
     ]
    }
   ],
   "source": [
    "# Creating the generator\n",
    "datagenerator = ImageDataGenerator(rescale=1/255)\n",
    "\n",
    "# Creating a graph and session for extracting the features\n",
    "img_graph = tf.Graph()\n",
    "\n",
    "with img_graph.as_default():\n",
    "    # Getting the module\n",
    "    module_url = 'https://tfhub.dev/google/imagenet/mobilenet_v2_100_224/feature_vector/2'\n",
    "    feature_extractor = hub.Module(module_url)\n",
    "    \n",
    "    # Creating input place holder\n",
    "    input_imgs = tf.placeholder(dtype=tf.float32, shape=[None, 224,224,3])\n",
    "    \n",
    "    # Node with features\n",
    "    imgs_features = feature_extractor(input_imgs)\n",
    "    \n",
    "    # Collect initializers\n",
    "    init_op = tf.group([ tf.global_variables_initializer(), tf.tables_initializer()])\n",
    "    \n",
    "    \n",
    "img_graph.finalize()\n",
    "\n",
    "# Creating session\n",
    "sess = tf.Session(graph=img_graph)\n",
    "\n",
    "# Initialize it\n",
    "sess.run(init_op)"
   ]
  },
  {
   "cell_type": "markdown",
   "metadata": {},
   "source": [
    "## Loading the data"
   ]
  },
  {
   "cell_type": "code",
   "execution_count": 3,
   "metadata": {},
   "outputs": [
    {
     "name": "stdout",
     "output_type": "stream",
     "text": [
      "Found 2637 images belonging to 2 classes.\n"
     ]
    }
   ],
   "source": [
    "# Loading the train data\n",
    "train_data = datagenerator.flow_from_directory('train', batch_size=2637, shuffle=True, target_size=(224,224), color_mode='rgb', class_mode='categorical')\n",
    "\n",
    "# The train folder contains 2637 images"
   ]
  },
  {
   "cell_type": "code",
   "execution_count": 4,
   "metadata": {},
   "outputs": [
    {
     "data": {
      "text/plain": [
       "{'benign': 0, 'malignant': 1}"
      ]
     },
     "execution_count": 4,
     "metadata": {},
     "output_type": "execute_result"
    }
   ],
   "source": [
    "# Getting the classes\n",
    "train_data.class_indices"
   ]
  },
  {
   "cell_type": "code",
   "execution_count": 5,
   "metadata": {},
   "outputs": [
    {
     "name": "stdout",
     "output_type": "stream",
     "text": [
      "Found 660 images belonging to 2 classes.\n"
     ]
    }
   ],
   "source": [
    "# Loading the test data\n",
    "test_data = datagenerator.flow_from_directory('test', batch_size=660, shuffle=True, target_size=(224,224), color_mode='rgb', class_mode='categorical')\n",
    "\n",
    "# The test folder contains 660 images"
   ]
  },
  {
   "cell_type": "code",
   "execution_count": 6,
   "metadata": {},
   "outputs": [
    {
     "data": {
      "text/plain": [
       "{'benign': 0, 'malignant': 1}"
      ]
     },
     "execution_count": 6,
     "metadata": {},
     "output_type": "execute_result"
    }
   ],
   "source": [
    "# Getting the classes\n",
    "test_data.class_indices"
   ]
  },
  {
   "cell_type": "markdown",
   "metadata": {},
   "source": [
    "## Preparing the data"
   ]
  },
  {
   "cell_type": "markdown",
   "metadata": {},
   "source": [
    "### Train dataset"
   ]
  },
  {
   "cell_type": "code",
   "execution_count": 7,
   "metadata": {},
   "outputs": [],
   "source": [
    "batch_train_images, batch_train_labels = train_data.next()"
   ]
  },
  {
   "cell_type": "code",
   "execution_count": 8,
   "metadata": {},
   "outputs": [],
   "source": [
    "# Converting labels into integer\n",
    "train_labels = batch_train_labels\n",
    "train_labels = np.argmax(train_labels,axis=1)"
   ]
  },
  {
   "cell_type": "code",
   "execution_count": 9,
   "metadata": {},
   "outputs": [],
   "source": [
    "# Extracting the features\n",
    "train_features = sess.run(imgs_features, feed_dict={input_imgs:batch_train_images})"
   ]
  },
  {
   "cell_type": "code",
   "execution_count": 10,
   "metadata": {},
   "outputs": [],
   "source": [
    "# Saving the features and labels in an npz file\n",
    "np.savez('train_data',features=train_features,image=batch_train_images,label=train_labels)"
   ]
  },
  {
   "cell_type": "markdown",
   "metadata": {},
   "source": [
    "### Test dataset"
   ]
  },
  {
   "cell_type": "code",
   "execution_count": 11,
   "metadata": {},
   "outputs": [],
   "source": [
    "batch_test_images, batch_test_labels = test_data.next()"
   ]
  },
  {
   "cell_type": "code",
   "execution_count": 12,
   "metadata": {},
   "outputs": [],
   "source": [
    "# Converting labels into integer\n",
    "test_labels = batch_test_labels\n",
    "test_labels = np.argmax(test_labels,axis=1)"
   ]
  },
  {
   "cell_type": "code",
   "execution_count": 13,
   "metadata": {},
   "outputs": [],
   "source": [
    "# Extracting features\n",
    "test_features = sess.run(imgs_features, feed_dict={input_imgs: batch_test_images})"
   ]
  },
  {
   "cell_type": "code",
   "execution_count": 14,
   "metadata": {},
   "outputs": [],
   "source": [
    "# Saving the features and labels in an npz file\n",
    "np.savez('test_data',features=test_features,image=batch_test_images,label=test_labels)"
   ]
  },
  {
   "cell_type": "code",
   "execution_count": null,
   "metadata": {},
   "outputs": [],
   "source": []
  }
 ],
 "metadata": {
  "kernelspec": {
   "display_name": "Python 3",
   "language": "python",
   "name": "python3"
  },
  "language_info": {
   "codemirror_mode": {
    "name": "ipython",
    "version": 3
   },
   "file_extension": ".py",
   "mimetype": "text/x-python",
   "name": "python",
   "nbconvert_exporter": "python",
   "pygments_lexer": "ipython3",
   "version": "3.6.10"
  }
 },
 "nbformat": 4,
 "nbformat_minor": 4
}
