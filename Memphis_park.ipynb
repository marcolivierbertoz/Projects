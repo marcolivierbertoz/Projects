{
 "cells": [
  {
   "cell_type": "markdown",
   "metadata": {},
   "source": [
    "# Memphis City Park"
   ]
  },
  {
   "cell_type": "markdown",
   "metadata": {},
   "source": [
    "* **Project goal**: Learn how to use _Streamlit_ library\n",
    "* **Data Source**: https://data.memphistn.gov/browse?limitTo=datasets\n",
    "* **Date of download of the data**: 11 November 2020\n",
    "* **Data file format**: .CVS\n",
    "* **Package website**: https://www.streamlit.io/\n",
    "\n",
    "## Introduction\n",
    "The goal of this project, as mentioned in the bullet list above, aim to help the creator learn how to use the _Streamlit_ package, which give the opportuntiy to create web application in a simple way, without the use of other programming language like _React.JS_, _Flask_, etc.\n",
    "\n",
    "This project is divided into two segments, one with the data preparation (which is in this file) and the other where there is the app (in another python file).\n",
    "\n",
    "For keeping it simple, the web app will only have the scope of viewing the data and apply certain filters, so no machine learning will be implemented.\n",
    "\n",
    ">This project doesn't have any scientifc/economical/social/ goals, it's just used to learn how to use the specified package. So the editing of the data is purerly based on a personal choice."
   ]
  },
  {
   "cell_type": "markdown",
   "metadata": {},
   "source": [
    "## Loading package"
   ]
  },
  {
   "cell_type": "code",
   "execution_count": 1,
   "metadata": {},
   "outputs": [],
   "source": [
    "import numpy as np\n",
    "import pandas as pd\n",
    "%matplotlib inline\n",
    "import matplotlib.pyplot as plt\n",
    "import seaborn as sns\n",
    "import datetime as dt\n",
    "\n",
    "pd.set_option('display.max_columns', None) # Viewing all the columns\n",
    "pd.set_option('display.max_rows',None) # Showing all the data"
   ]
  },
  {
   "cell_type": "markdown",
   "metadata": {},
   "source": [
    "## Loading the data"
   ]
  },
  {
   "cell_type": "code",
   "execution_count": 2,
   "metadata": {},
   "outputs": [],
   "source": [
    "mem_park_df = pd.read_csv('City_of_Memphis_Parks_Spatial_Data.csv')"
   ]
  },
  {
   "cell_type": "markdown",
   "metadata": {},
   "source": [
    "## Exploring the data\n",
    "First a brief exploration is made, to understand the kind of data, how many empty (null) cell there are and understand what kind of data to keep for the scope of the project."
   ]
  },
  {
   "cell_type": "markdown",
   "metadata": {},
   "source": [
    "### Viewing the head of the data"
   ]
  },
  {
   "cell_type": "code",
   "execution_count": 3,
   "metadata": {},
   "outputs": [
    {
     "data": {
      "text/html": [
       "<div>\n",
       "<style scoped>\n",
       "    .dataframe tbody tr th:only-of-type {\n",
       "        vertical-align: middle;\n",
       "    }\n",
       "\n",
       "    .dataframe tbody tr th {\n",
       "        vertical-align: top;\n",
       "    }\n",
       "\n",
       "    .dataframe thead th {\n",
       "        text-align: right;\n",
       "    }\n",
       "</style>\n",
       "<table border=\"1\" class=\"dataframe\">\n",
       "  <thead>\n",
       "    <tr style=\"text-align: right;\">\n",
       "      <th></th>\n",
       "      <th>Park_Name</th>\n",
       "      <th>ParkID</th>\n",
       "      <th>Census_Tract</th>\n",
       "      <th>Council_District</th>\n",
       "      <th>LOCATION</th>\n",
       "      <th>ZipCode</th>\n",
       "      <th>Ballfield</th>\n",
       "      <th>Basketball</th>\n",
       "      <th>Benches</th>\n",
       "      <th>Concession</th>\n",
       "      <th>Fountains</th>\n",
       "      <th>Grills</th>\n",
       "      <th>Off_Street_Parking</th>\n",
       "      <th>Pavilions</th>\n",
       "      <th>Picnic_Tables</th>\n",
       "      <th>Play_Equipment</th>\n",
       "      <th>Playground</th>\n",
       "      <th>Pools</th>\n",
       "      <th>Restrooms</th>\n",
       "      <th>Tennis_Courts</th>\n",
       "      <th>Trash</th>\n",
       "      <th>Walking_Trails</th>\n",
       "      <th>FACILITIES</th>\n",
       "      <th>Additional</th>\n",
       "      <th>Acres_park</th>\n",
       "      <th>INSIDE_X</th>\n",
       "      <th>INSIDE_Y</th>\n",
       "      <th>GISTrkrID</th>\n",
       "      <th>Shape_STAr</th>\n",
       "      <th>Shape_STLe</th>\n",
       "      <th>Shape_ST_1</th>\n",
       "      <th>Shape_ST_2</th>\n",
       "      <th>point</th>\n",
       "      <th>Park_Local</th>\n",
       "      <th>Park_Manag</th>\n",
       "      <th>Park_Owner</th>\n",
       "      <th>Shelby County Zip Codes</th>\n",
       "      <th>Memphis 3.0 Planning Districts</th>\n",
       "      <th>City Council Districts</th>\n",
       "    </tr>\n",
       "  </thead>\n",
       "  <tbody>\n",
       "    <tr>\n",
       "      <th>0</th>\n",
       "      <td>NaN</td>\n",
       "      <td>47480000108</td>\n",
       "      <td>0</td>\n",
       "      <td>0</td>\n",
       "      <td>NaN</td>\n",
       "      <td>NaN</td>\n",
       "      <td>NaN</td>\n",
       "      <td>NaN</td>\n",
       "      <td>NaN</td>\n",
       "      <td>NaN</td>\n",
       "      <td>NaN</td>\n",
       "      <td>NaN</td>\n",
       "      <td>NaN</td>\n",
       "      <td>NaN</td>\n",
       "      <td>NaN</td>\n",
       "      <td>NaN</td>\n",
       "      <td>NaN</td>\n",
       "      <td>NaN</td>\n",
       "      <td>NaN</td>\n",
       "      <td>NaN</td>\n",
       "      <td>NaN</td>\n",
       "      <td>NaN</td>\n",
       "      <td>NaN</td>\n",
       "      <td>NaN</td>\n",
       "      <td>NaN</td>\n",
       "      <td>-9.999945e+06</td>\n",
       "      <td>4.182208e+06</td>\n",
       "      <td>143</td>\n",
       "      <td>2.440620e+07</td>\n",
       "      <td>27304.712431</td>\n",
       "      <td>0.000000</td>\n",
       "      <td>0.000000</td>\n",
       "      <td>POINT (-89.8310367674 35.1347474993)</td>\n",
       "      <td>COUNTY OF SHELBY</td>\n",
       "      <td>CNTY</td>\n",
       "      <td>CNTY</td>\n",
       "      <td>19</td>\n",
       "      <td>3</td>\n",
       "      <td>2</td>\n",
       "    </tr>\n",
       "    <tr>\n",
       "      <th>1</th>\n",
       "      <td>NaN</td>\n",
       "      <td>47480000084</td>\n",
       "      <td>0</td>\n",
       "      <td>0</td>\n",
       "      <td>NaN</td>\n",
       "      <td>NaN</td>\n",
       "      <td>NaN</td>\n",
       "      <td>NaN</td>\n",
       "      <td>NaN</td>\n",
       "      <td>NaN</td>\n",
       "      <td>NaN</td>\n",
       "      <td>NaN</td>\n",
       "      <td>NaN</td>\n",
       "      <td>NaN</td>\n",
       "      <td>NaN</td>\n",
       "      <td>NaN</td>\n",
       "      <td>NaN</td>\n",
       "      <td>NaN</td>\n",
       "      <td>NaN</td>\n",
       "      <td>NaN</td>\n",
       "      <td>NaN</td>\n",
       "      <td>NaN</td>\n",
       "      <td>NaN</td>\n",
       "      <td>NaN</td>\n",
       "      <td>NaN</td>\n",
       "      <td>-1.002876e+07</td>\n",
       "      <td>4.169771e+06</td>\n",
       "      <td>143</td>\n",
       "      <td>3.981989e+04</td>\n",
       "      <td>973.719759</td>\n",
       "      <td>0.000000</td>\n",
       "      <td>0.000000</td>\n",
       "      <td>POINT (-90.0898446304 35.0433311692)</td>\n",
       "      <td>TURNER JOHNNIE R</td>\n",
       "      <td>PRIV</td>\n",
       "      <td>PRIV</td>\n",
       "      <td>9</td>\n",
       "      <td>13</td>\n",
       "      <td>6</td>\n",
       "    </tr>\n",
       "    <tr>\n",
       "      <th>2</th>\n",
       "      <td>Madison &amp; Monroe Park</td>\n",
       "      <td>47480000164</td>\n",
       "      <td>47157011400</td>\n",
       "      <td>6</td>\n",
       "      <td>Madison &amp; Monroe</td>\n",
       "      <td>38103.0</td>\n",
       "      <td>no</td>\n",
       "      <td>no</td>\n",
       "      <td>no</td>\n",
       "      <td>no</td>\n",
       "      <td>no</td>\n",
       "      <td>no</td>\n",
       "      <td>no</td>\n",
       "      <td>no</td>\n",
       "      <td>no</td>\n",
       "      <td>NaN</td>\n",
       "      <td>no</td>\n",
       "      <td>no</td>\n",
       "      <td>no</td>\n",
       "      <td>no</td>\n",
       "      <td>False</td>\n",
       "      <td>no</td>\n",
       "      <td>Landscaped median.</td>\n",
       "      <td>NaN</td>\n",
       "      <td>NaN</td>\n",
       "      <td>-1.002296e+07</td>\n",
       "      <td>4.183049e+06</td>\n",
       "      <td>143</td>\n",
       "      <td>2.911801e+03</td>\n",
       "      <td>253.674541</td>\n",
       "      <td>2911.800781</td>\n",
       "      <td>253.674541</td>\n",
       "      <td>POINT (-90.0377902717 35.1409236944)</td>\n",
       "      <td>City of Memphis</td>\n",
       "      <td>CITY</td>\n",
       "      <td>CITY</td>\n",
       "      <td>3</td>\n",
       "      <td>8</td>\n",
       "      <td>6</td>\n",
       "    </tr>\n",
       "    <tr>\n",
       "      <th>3</th>\n",
       "      <td>Frayser Park</td>\n",
       "      <td>47480000017</td>\n",
       "      <td>47157010120</td>\n",
       "      <td>7</td>\n",
       "      <td>2907 N. Watkins</td>\n",
       "      <td>38127.0</td>\n",
       "      <td>yes</td>\n",
       "      <td>indoor &amp; outdoor</td>\n",
       "      <td>no</td>\n",
       "      <td>no</td>\n",
       "      <td>no</td>\n",
       "      <td>no</td>\n",
       "      <td>yes</td>\n",
       "      <td>yes</td>\n",
       "      <td>no</td>\n",
       "      <td>NaN</td>\n",
       "      <td>yes</td>\n",
       "      <td>Outdoor</td>\n",
       "      <td>in center</td>\n",
       "      <td>8 outdoor</td>\n",
       "      <td>False</td>\n",
       "      <td>1.5 mi</td>\n",
       "      <td>Ed Rice/Frayser Comm Center, tennis center , p...</td>\n",
       "      <td>NaN</td>\n",
       "      <td>40.54</td>\n",
       "      <td>-1.001942e+07</td>\n",
       "      <td>4.191843e+06</td>\n",
       "      <td>143</td>\n",
       "      <td>3.382008e+05</td>\n",
       "      <td>4953.348105</td>\n",
       "      <td>338200.769500</td>\n",
       "      <td>4953.348105</td>\n",
       "      <td>POINT (-90.0059795441 35.2054976787)</td>\n",
       "      <td>City of Memphis</td>\n",
       "      <td>CITY</td>\n",
       "      <td>CITY</td>\n",
       "      <td>23</td>\n",
       "      <td>1</td>\n",
       "      <td>7</td>\n",
       "    </tr>\n",
       "    <tr>\n",
       "      <th>4</th>\n",
       "      <td>Cash Park</td>\n",
       "      <td>47480000081</td>\n",
       "      <td>47157022310</td>\n",
       "      <td>6</td>\n",
       "      <td>Ford Rd @ Deerskin Dr</td>\n",
       "      <td>38109.0</td>\n",
       "      <td>yes</td>\n",
       "      <td>outdoor</td>\n",
       "      <td>no</td>\n",
       "      <td>no</td>\n",
       "      <td>no</td>\n",
       "      <td>no</td>\n",
       "      <td>yes</td>\n",
       "      <td>no</td>\n",
       "      <td>no</td>\n",
       "      <td>NaN</td>\n",
       "      <td>yes</td>\n",
       "      <td>no</td>\n",
       "      <td>no</td>\n",
       "      <td>no</td>\n",
       "      <td>False</td>\n",
       "      <td>.5 mi</td>\n",
       "      <td>Basketball court, play equipment, playground b...</td>\n",
       "      <td>NaN</td>\n",
       "      <td>22.00</td>\n",
       "      <td>-1.002776e+07</td>\n",
       "      <td>4.170574e+06</td>\n",
       "      <td>143</td>\n",
       "      <td>1.041129e+05</td>\n",
       "      <td>1506.721921</td>\n",
       "      <td>104112.925800</td>\n",
       "      <td>1506.721921</td>\n",
       "      <td>POINT (-90.080910372 35.0492329349)</td>\n",
       "      <td>City of Memphis</td>\n",
       "      <td>CITY</td>\n",
       "      <td>CITY</td>\n",
       "      <td>9</td>\n",
       "      <td>13</td>\n",
       "      <td>6</td>\n",
       "    </tr>\n",
       "  </tbody>\n",
       "</table>\n",
       "</div>"
      ],
      "text/plain": [
       "               Park_Name       ParkID  Census_Tract  Council_District  \\\n",
       "0                    NaN  47480000108             0                 0   \n",
       "1                    NaN  47480000084             0                 0   \n",
       "2  Madison & Monroe Park  47480000164   47157011400                 6   \n",
       "3           Frayser Park  47480000017   47157010120                 7   \n",
       "4              Cash Park  47480000081   47157022310                 6   \n",
       "\n",
       "                LOCATION  ZipCode Ballfield        Basketball Benches  \\\n",
       "0                    NaN      NaN       NaN               NaN     NaN   \n",
       "1                    NaN      NaN       NaN               NaN     NaN   \n",
       "2       Madison & Monroe  38103.0        no                no      no   \n",
       "3        2907 N. Watkins  38127.0       yes  indoor & outdoor      no   \n",
       "4  Ford Rd @ Deerskin Dr  38109.0       yes           outdoor      no   \n",
       "\n",
       "  Concession Fountains Grills Off_Street_Parking Pavilions Picnic_Tables  \\\n",
       "0        NaN       NaN    NaN                NaN       NaN           NaN   \n",
       "1        NaN       NaN    NaN                NaN       NaN           NaN   \n",
       "2         no        no     no                 no        no            no   \n",
       "3         no        no     no                yes       yes            no   \n",
       "4         no        no     no                yes        no            no   \n",
       "\n",
       "   Play_Equipment Playground    Pools  Restrooms Tennis_Courts  Trash  \\\n",
       "0             NaN        NaN      NaN        NaN           NaN    NaN   \n",
       "1             NaN        NaN      NaN        NaN           NaN    NaN   \n",
       "2             NaN         no       no         no            no  False   \n",
       "3             NaN        yes  Outdoor  in center     8 outdoor  False   \n",
       "4             NaN        yes       no         no            no  False   \n",
       "\n",
       "  Walking_Trails                                         FACILITIES  \\\n",
       "0            NaN                                                NaN   \n",
       "1            NaN                                                NaN   \n",
       "2             no                                 Landscaped median.   \n",
       "3         1.5 mi  Ed Rice/Frayser Comm Center, tennis center , p...   \n",
       "4          .5 mi  Basketball court, play equipment, playground b...   \n",
       "\n",
       "  Additional  Acres_park      INSIDE_X      INSIDE_Y  GISTrkrID    Shape_STAr  \\\n",
       "0        NaN         NaN -9.999945e+06  4.182208e+06        143  2.440620e+07   \n",
       "1        NaN         NaN -1.002876e+07  4.169771e+06        143  3.981989e+04   \n",
       "2        NaN         NaN -1.002296e+07  4.183049e+06        143  2.911801e+03   \n",
       "3        NaN       40.54 -1.001942e+07  4.191843e+06        143  3.382008e+05   \n",
       "4        NaN       22.00 -1.002776e+07  4.170574e+06        143  1.041129e+05   \n",
       "\n",
       "     Shape_STLe     Shape_ST_1   Shape_ST_2  \\\n",
       "0  27304.712431       0.000000     0.000000   \n",
       "1    973.719759       0.000000     0.000000   \n",
       "2    253.674541    2911.800781   253.674541   \n",
       "3   4953.348105  338200.769500  4953.348105   \n",
       "4   1506.721921  104112.925800  1506.721921   \n",
       "\n",
       "                                  point        Park_Local Park_Manag  \\\n",
       "0  POINT (-89.8310367674 35.1347474993)  COUNTY OF SHELBY       CNTY   \n",
       "1  POINT (-90.0898446304 35.0433311692)  TURNER JOHNNIE R       PRIV   \n",
       "2  POINT (-90.0377902717 35.1409236944)   City of Memphis       CITY   \n",
       "3  POINT (-90.0059795441 35.2054976787)   City of Memphis       CITY   \n",
       "4   POINT (-90.080910372 35.0492329349)   City of Memphis       CITY   \n",
       "\n",
       "  Park_Owner  Shelby County Zip Codes  Memphis 3.0 Planning Districts  \\\n",
       "0       CNTY                       19                               3   \n",
       "1       PRIV                        9                              13   \n",
       "2       CITY                        3                               8   \n",
       "3       CITY                       23                               1   \n",
       "4       CITY                        9                              13   \n",
       "\n",
       "   City Council Districts  \n",
       "0                       2  \n",
       "1                       6  \n",
       "2                       6  \n",
       "3                       7  \n",
       "4                       6  "
      ]
     },
     "execution_count": 3,
     "metadata": {},
     "output_type": "execute_result"
    }
   ],
   "source": [
    "mem_park_df.head()"
   ]
  },
  {
   "cell_type": "markdown",
   "metadata": {},
   "source": [
    "### Viewing the type of data"
   ]
  },
  {
   "cell_type": "code",
   "execution_count": 4,
   "metadata": {},
   "outputs": [
    {
     "data": {
      "text/plain": [
       "Park_Name                          object\n",
       "ParkID                              int64\n",
       "Census_Tract                        int64\n",
       "Council_District                    int64\n",
       "LOCATION                           object\n",
       "ZipCode                           float64\n",
       "Ballfield                          object\n",
       "Basketball                         object\n",
       "Benches                            object\n",
       "Concession                         object\n",
       "Fountains                          object\n",
       "Grills                             object\n",
       "Off_Street_Parking                 object\n",
       "Pavilions                          object\n",
       "Picnic_Tables                      object\n",
       "Play_Equipment                    float64\n",
       "Playground                         object\n",
       "Pools                              object\n",
       "Restrooms                          object\n",
       "Tennis_Courts                      object\n",
       "Trash                              object\n",
       "Walking_Trails                     object\n",
       "FACILITIES                         object\n",
       "Additional                         object\n",
       "Acres_park                        float64\n",
       "INSIDE_X                          float64\n",
       "INSIDE_Y                          float64\n",
       "GISTrkrID                           int64\n",
       "Shape_STAr                        float64\n",
       "Shape_STLe                        float64\n",
       "Shape_ST_1                        float64\n",
       "Shape_ST_2                        float64\n",
       "point                              object\n",
       "Park_Local                         object\n",
       "Park_Manag                         object\n",
       "Park_Owner                         object\n",
       "Shelby County Zip Codes             int64\n",
       "Memphis 3.0 Planning Districts      int64\n",
       "City Council Districts              int64\n",
       "dtype: object"
      ]
     },
     "execution_count": 4,
     "metadata": {},
     "output_type": "execute_result"
    }
   ],
   "source": [
    "mem_park_df.dtypes"
   ]
  },
  {
   "cell_type": "markdown",
   "metadata": {},
   "source": [
    "### Heatmap of empty (null) data"
   ]
  },
  {
   "cell_type": "code",
   "execution_count": 5,
   "metadata": {},
   "outputs": [
    {
     "data": {
      "image/png": "[encoded data removed]",
      "text/plain": [
       "<Figure size 2880x1440 with 1 Axes>"
      ]
     },
     "metadata": {
      "needs_background": "light"
     },
     "output_type": "display_data"
    }
   ],
   "source": [
    "plt.figure(figsize=(40,20))\n",
    "sns.heatmap(mem_park_df.isnull(), cbar=False);"
   ]
  },
  {
   "cell_type": "markdown",
   "metadata": {},
   "source": [
    "## Data cleaning\n",
    "After having a first look of the data, a quick celaning will be made, by removing columns are not going to be used and replacing the null value with a specific value."
   ]
  },
  {
   "cell_type": "markdown",
   "metadata": {},
   "source": [
    "### Columns removal\n",
    "The columns that are going to be removed are:\n",
    "* ParkID\n",
    "* Census_Tract\n",
    "* INSIDE_X\n",
    "* INSIDE_Y\n",
    "* GISTrkrID\n",
    "* Shape_STLe\n",
    "* Shape_STAr\n",
    "* Shape_ST_1\n",
    "* Shape_ST_2\n",
    "* point\n",
    "* Park_Local\n",
    "* Park_Manag\n",
    "* Park_Owner\n",
    "* Shelby County Zip Codes\n",
    "* Memphis 3.0 Planning Districts\n",
    "* City Council Districts\n",
    "* FACILITIES\n",
    "* Additional\n",
    "* Play_Equipment"
   ]
  },
  {
   "cell_type": "code",
   "execution_count": 6,
   "metadata": {},
   "outputs": [],
   "source": [
    "# Declaring an array with the columns to remove\n",
    "column_drop = ['ParkID','Census_Tract','INSIDE_X','INSIDE_Y','GISTrkrID','Shape_STLe','Shape_STAr','Shape_ST_1','Shape_ST_2','point','Park_Local','Park_Manag','Park_Owner','Shelby County Zip Codes','Memphis 3.0 Planning Districts','City Council Districts',\n",
    "             'FACILITIES','Additional','Play_Equipment']\n",
    "\n",
    "# Removing the columns\n",
    "mem_park_df.drop(column_drop, axis=1, inplace=True)"
   ]
  },
  {
   "cell_type": "code",
   "execution_count": 7,
   "metadata": {},
   "outputs": [
    {
     "data": {
      "text/html": [
       "<div>\n",
       "<style scoped>\n",
       "    .dataframe tbody tr th:only-of-type {\n",
       "        vertical-align: middle;\n",
       "    }\n",
       "\n",
       "    .dataframe tbody tr th {\n",
       "        vertical-align: top;\n",
       "    }\n",
       "\n",
       "    .dataframe thead th {\n",
       "        text-align: right;\n",
       "    }\n",
       "</style>\n",
       "<table border=\"1\" class=\"dataframe\">\n",
       "  <thead>\n",
       "    <tr style=\"text-align: right;\">\n",
       "      <th></th>\n",
       "      <th>Park_Name</th>\n",
       "      <th>Council_District</th>\n",
       "      <th>LOCATION</th>\n",
       "      <th>ZipCode</th>\n",
       "      <th>Ballfield</th>\n",
       "      <th>Basketball</th>\n",
       "      <th>Benches</th>\n",
       "      <th>Concession</th>\n",
       "      <th>Fountains</th>\n",
       "      <th>Grills</th>\n",
       "      <th>Off_Street_Parking</th>\n",
       "      <th>Pavilions</th>\n",
       "      <th>Picnic_Tables</th>\n",
       "      <th>Playground</th>\n",
       "      <th>Pools</th>\n",
       "      <th>Restrooms</th>\n",
       "      <th>Tennis_Courts</th>\n",
       "      <th>Trash</th>\n",
       "      <th>Walking_Trails</th>\n",
       "      <th>Acres_park</th>\n",
       "    </tr>\n",
       "  </thead>\n",
       "  <tbody>\n",
       "    <tr>\n",
       "      <th>0</th>\n",
       "      <td>NaN</td>\n",
       "      <td>0</td>\n",
       "      <td>NaN</td>\n",
       "      <td>NaN</td>\n",
       "      <td>NaN</td>\n",
       "      <td>NaN</td>\n",
       "      <td>NaN</td>\n",
       "      <td>NaN</td>\n",
       "      <td>NaN</td>\n",
       "      <td>NaN</td>\n",
       "      <td>NaN</td>\n",
       "      <td>NaN</td>\n",
       "      <td>NaN</td>\n",
       "      <td>NaN</td>\n",
       "      <td>NaN</td>\n",
       "      <td>NaN</td>\n",
       "      <td>NaN</td>\n",
       "      <td>NaN</td>\n",
       "      <td>NaN</td>\n",
       "      <td>NaN</td>\n",
       "    </tr>\n",
       "    <tr>\n",
       "      <th>1</th>\n",
       "      <td>NaN</td>\n",
       "      <td>0</td>\n",
       "      <td>NaN</td>\n",
       "      <td>NaN</td>\n",
       "      <td>NaN</td>\n",
       "      <td>NaN</td>\n",
       "      <td>NaN</td>\n",
       "      <td>NaN</td>\n",
       "      <td>NaN</td>\n",
       "      <td>NaN</td>\n",
       "      <td>NaN</td>\n",
       "      <td>NaN</td>\n",
       "      <td>NaN</td>\n",
       "      <td>NaN</td>\n",
       "      <td>NaN</td>\n",
       "      <td>NaN</td>\n",
       "      <td>NaN</td>\n",
       "      <td>NaN</td>\n",
       "      <td>NaN</td>\n",
       "      <td>NaN</td>\n",
       "    </tr>\n",
       "    <tr>\n",
       "      <th>2</th>\n",
       "      <td>Madison &amp; Monroe Park</td>\n",
       "      <td>6</td>\n",
       "      <td>Madison &amp; Monroe</td>\n",
       "      <td>38103.0</td>\n",
       "      <td>no</td>\n",
       "      <td>no</td>\n",
       "      <td>no</td>\n",
       "      <td>no</td>\n",
       "      <td>no</td>\n",
       "      <td>no</td>\n",
       "      <td>no</td>\n",
       "      <td>no</td>\n",
       "      <td>no</td>\n",
       "      <td>no</td>\n",
       "      <td>no</td>\n",
       "      <td>no</td>\n",
       "      <td>no</td>\n",
       "      <td>False</td>\n",
       "      <td>no</td>\n",
       "      <td>NaN</td>\n",
       "    </tr>\n",
       "    <tr>\n",
       "      <th>3</th>\n",
       "      <td>Frayser Park</td>\n",
       "      <td>7</td>\n",
       "      <td>2907 N. Watkins</td>\n",
       "      <td>38127.0</td>\n",
       "      <td>yes</td>\n",
       "      <td>indoor &amp; outdoor</td>\n",
       "      <td>no</td>\n",
       "      <td>no</td>\n",
       "      <td>no</td>\n",
       "      <td>no</td>\n",
       "      <td>yes</td>\n",
       "      <td>yes</td>\n",
       "      <td>no</td>\n",
       "      <td>yes</td>\n",
       "      <td>Outdoor</td>\n",
       "      <td>in center</td>\n",
       "      <td>8 outdoor</td>\n",
       "      <td>False</td>\n",
       "      <td>1.5 mi</td>\n",
       "      <td>40.54</td>\n",
       "    </tr>\n",
       "    <tr>\n",
       "      <th>4</th>\n",
       "      <td>Cash Park</td>\n",
       "      <td>6</td>\n",
       "      <td>Ford Rd @ Deerskin Dr</td>\n",
       "      <td>38109.0</td>\n",
       "      <td>yes</td>\n",
       "      <td>outdoor</td>\n",
       "      <td>no</td>\n",
       "      <td>no</td>\n",
       "      <td>no</td>\n",
       "      <td>no</td>\n",
       "      <td>yes</td>\n",
       "      <td>no</td>\n",
       "      <td>no</td>\n",
       "      <td>yes</td>\n",
       "      <td>no</td>\n",
       "      <td>no</td>\n",
       "      <td>no</td>\n",
       "      <td>False</td>\n",
       "      <td>.5 mi</td>\n",
       "      <td>22.00</td>\n",
       "    </tr>\n",
       "    <tr>\n",
       "      <th>5</th>\n",
       "      <td>NaN</td>\n",
       "      <td>0</td>\n",
       "      <td>NaN</td>\n",
       "      <td>NaN</td>\n",
       "      <td>NaN</td>\n",
       "      <td>NaN</td>\n",
       "      <td>NaN</td>\n",
       "      <td>NaN</td>\n",
       "      <td>NaN</td>\n",
       "      <td>NaN</td>\n",
       "      <td>NaN</td>\n",
       "      <td>NaN</td>\n",
       "      <td>NaN</td>\n",
       "      <td>NaN</td>\n",
       "      <td>NaN</td>\n",
       "      <td>NaN</td>\n",
       "      <td>NaN</td>\n",
       "      <td>NaN</td>\n",
       "      <td>NaN</td>\n",
       "      <td>NaN</td>\n",
       "    </tr>\n",
       "    <tr>\n",
       "      <th>6</th>\n",
       "      <td>Germanshire Park</td>\n",
       "      <td>2</td>\n",
       "      <td>Germantown Rd. @ Germanshire Rd.</td>\n",
       "      <td>38125.0</td>\n",
       "      <td>no</td>\n",
       "      <td>no</td>\n",
       "      <td>no</td>\n",
       "      <td>no</td>\n",
       "      <td>no</td>\n",
       "      <td>no</td>\n",
       "      <td>at school</td>\n",
       "      <td>yes</td>\n",
       "      <td>no</td>\n",
       "      <td>yes</td>\n",
       "      <td>no</td>\n",
       "      <td>no</td>\n",
       "      <td>no</td>\n",
       "      <td>False</td>\n",
       "      <td>.5 mi</td>\n",
       "      <td>14.00</td>\n",
       "    </tr>\n",
       "    <tr>\n",
       "      <th>7</th>\n",
       "      <td>LE Brown</td>\n",
       "      <td>6</td>\n",
       "      <td>617 S. Orleans</td>\n",
       "      <td>38126.0</td>\n",
       "      <td>yes</td>\n",
       "      <td>outdoor</td>\n",
       "      <td>no</td>\n",
       "      <td>no</td>\n",
       "      <td>no</td>\n",
       "      <td>no</td>\n",
       "      <td>no</td>\n",
       "      <td>2</td>\n",
       "      <td>no</td>\n",
       "      <td>yes</td>\n",
       "      <td>Outdoor</td>\n",
       "      <td>yes</td>\n",
       "      <td>no</td>\n",
       "      <td>False</td>\n",
       "      <td>no</td>\n",
       "      <td>6.00</td>\n",
       "    </tr>\n",
       "    <tr>\n",
       "      <th>8</th>\n",
       "      <td>NaN</td>\n",
       "      <td>0</td>\n",
       "      <td>NaN</td>\n",
       "      <td>NaN</td>\n",
       "      <td>NaN</td>\n",
       "      <td>NaN</td>\n",
       "      <td>NaN</td>\n",
       "      <td>NaN</td>\n",
       "      <td>NaN</td>\n",
       "      <td>NaN</td>\n",
       "      <td>NaN</td>\n",
       "      <td>NaN</td>\n",
       "      <td>NaN</td>\n",
       "      <td>NaN</td>\n",
       "      <td>NaN</td>\n",
       "      <td>NaN</td>\n",
       "      <td>NaN</td>\n",
       "      <td>NaN</td>\n",
       "      <td>NaN</td>\n",
       "      <td>NaN</td>\n",
       "    </tr>\n",
       "    <tr>\n",
       "      <th>9</th>\n",
       "      <td>NaN</td>\n",
       "      <td>0</td>\n",
       "      <td>NaN</td>\n",
       "      <td>NaN</td>\n",
       "      <td>NaN</td>\n",
       "      <td>NaN</td>\n",
       "      <td>NaN</td>\n",
       "      <td>NaN</td>\n",
       "      <td>NaN</td>\n",
       "      <td>NaN</td>\n",
       "      <td>NaN</td>\n",
       "      <td>NaN</td>\n",
       "      <td>NaN</td>\n",
       "      <td>NaN</td>\n",
       "      <td>NaN</td>\n",
       "      <td>NaN</td>\n",
       "      <td>NaN</td>\n",
       "      <td>NaN</td>\n",
       "      <td>NaN</td>\n",
       "      <td>NaN</td>\n",
       "    </tr>\n",
       "  </tbody>\n",
       "</table>\n",
       "</div>"
      ],
      "text/plain": [
       "               Park_Name  Council_District                          LOCATION  \\\n",
       "0                    NaN                 0                               NaN   \n",
       "1                    NaN                 0                               NaN   \n",
       "2  Madison & Monroe Park                 6                  Madison & Monroe   \n",
       "3           Frayser Park                 7                   2907 N. Watkins   \n",
       "4              Cash Park                 6             Ford Rd @ Deerskin Dr   \n",
       "5                    NaN                 0                               NaN   \n",
       "6       Germanshire Park                 2  Germantown Rd. @ Germanshire Rd.   \n",
       "7               LE Brown                 6                    617 S. Orleans   \n",
       "8                    NaN                 0                               NaN   \n",
       "9                    NaN                 0                               NaN   \n",
       "\n",
       "   ZipCode Ballfield        Basketball Benches Concession Fountains Grills  \\\n",
       "0      NaN       NaN               NaN     NaN        NaN       NaN    NaN   \n",
       "1      NaN       NaN               NaN     NaN        NaN       NaN    NaN   \n",
       "2  38103.0        no                no      no         no        no     no   \n",
       "3  38127.0       yes  indoor & outdoor      no         no        no     no   \n",
       "4  38109.0       yes           outdoor      no         no        no     no   \n",
       "5      NaN       NaN               NaN     NaN        NaN       NaN    NaN   \n",
       "6  38125.0        no                no      no         no        no     no   \n",
       "7  38126.0       yes           outdoor      no         no        no     no   \n",
       "8      NaN       NaN               NaN     NaN        NaN       NaN    NaN   \n",
       "9      NaN       NaN               NaN     NaN        NaN       NaN    NaN   \n",
       "\n",
       "  Off_Street_Parking Pavilions Picnic_Tables Playground    Pools  Restrooms  \\\n",
       "0                NaN       NaN           NaN        NaN      NaN        NaN   \n",
       "1                NaN       NaN           NaN        NaN      NaN        NaN   \n",
       "2                 no        no            no         no       no         no   \n",
       "3                yes       yes            no        yes  Outdoor  in center   \n",
       "4                yes        no            no        yes       no         no   \n",
       "5                NaN       NaN           NaN        NaN      NaN        NaN   \n",
       "6          at school       yes            no        yes       no         no   \n",
       "7                 no         2            no        yes  Outdoor        yes   \n",
       "8                NaN       NaN           NaN        NaN      NaN        NaN   \n",
       "9                NaN       NaN           NaN        NaN      NaN        NaN   \n",
       "\n",
       "  Tennis_Courts  Trash Walking_Trails  Acres_park  \n",
       "0           NaN    NaN            NaN         NaN  \n",
       "1           NaN    NaN            NaN         NaN  \n",
       "2            no  False             no         NaN  \n",
       "3     8 outdoor  False         1.5 mi       40.54  \n",
       "4            no  False          .5 mi       22.00  \n",
       "5           NaN    NaN            NaN         NaN  \n",
       "6            no  False          .5 mi       14.00  \n",
       "7            no  False             no        6.00  \n",
       "8           NaN    NaN            NaN         NaN  \n",
       "9           NaN    NaN            NaN         NaN  "
      ]
     },
     "execution_count": 7,
     "metadata": {},
     "output_type": "execute_result"
    }
   ],
   "source": [
    "mem_park_df.head(10)"
   ]
  },
  {
   "cell_type": "code",
   "execution_count": 8,
   "metadata": {},
   "outputs": [
    {
     "data": {
      "text/plain": [
       "Park_Name              object\n",
       "Council_District        int64\n",
       "LOCATION               object\n",
       "ZipCode               float64\n",
       "Ballfield              object\n",
       "Basketball             object\n",
       "Benches                object\n",
       "Concession             object\n",
       "Fountains              object\n",
       "Grills                 object\n",
       "Off_Street_Parking     object\n",
       "Pavilions              object\n",
       "Picnic_Tables          object\n",
       "Playground             object\n",
       "Pools                  object\n",
       "Restrooms              object\n",
       "Tennis_Courts          object\n",
       "Trash                  object\n",
       "Walking_Trails         object\n",
       "Acres_park            float64\n",
       "dtype: object"
      ]
     },
     "execution_count": 8,
     "metadata": {},
     "output_type": "execute_result"
    }
   ],
   "source": [
    "mem_park_df.dtypes"
   ]
  },
  {
   "cell_type": "markdown",
   "metadata": {},
   "source": [
    "### Changing null value to a specific one"
   ]
  },
  {
   "cell_type": "markdown",
   "metadata": {},
   "source": [
    "#### Yes or No\n",
    "Here the value of the selected column will be changed into _Yes_ or _No_, for simplyfing the whole dataset"
   ]
  },
  {
   "cell_type": "markdown",
   "metadata": {},
   "source": [
    "##### Ballfield"
   ]
  },
  {
   "cell_type": "code",
   "execution_count": 9,
   "metadata": {},
   "outputs": [
    {
     "data": {
      "text/plain": [
       "no                      86\n",
       "yes                     49\n",
       "8                        1\n",
       "lighted                  1\n",
       "Lighted                  1\n",
       "2                        1\n",
       "9                        1\n",
       "3- lighted               1\n",
       "3 with lights            1\n",
       "5 fields with lights     1\n",
       "5-lighted                1\n",
       "4 with lights            1\n",
       "Name: Ballfield, dtype: int64"
      ]
     },
     "execution_count": 9,
     "metadata": {},
     "output_type": "execute_result"
    }
   ],
   "source": [
    "# Viewing the count of the differetn values\n",
    "mem_park_df['Ballfield'].value_counts()"
   ]
  },
  {
   "cell_type": "code",
   "execution_count": 10,
   "metadata": {},
   "outputs": [],
   "source": [
    "for i in range(len(mem_park_df)):\n",
    "    if (mem_park_df.loc[i,'Ballfield'] != 'no'):\n",
    "        mem_park_df.loc[i,'Ballfield'] = 'yes'"
   ]
  },
  {
   "cell_type": "markdown",
   "metadata": {},
   "source": [
    "##### Basketball"
   ]
  },
  {
   "cell_type": "code",
   "execution_count": 11,
   "metadata": {},
   "outputs": [
    {
     "data": {
      "text/plain": [
       "no                    94\n",
       "outdoor               21\n",
       "indoor                11\n",
       "indoor & outdoor      11\n",
       "2 outdoor              4\n",
       "yes                    1\n",
       "2 Outdoor              1\n",
       "in/outdoor             1\n",
       "indoor and outdoor     1\n",
       "Name: Basketball, dtype: int64"
      ]
     },
     "execution_count": 11,
     "metadata": {},
     "output_type": "execute_result"
    }
   ],
   "source": [
    "# Viewing the count of the differetn values\n",
    "mem_park_df['Basketball'].value_counts()"
   ]
  },
  {
   "cell_type": "code",
   "execution_count": 12,
   "metadata": {},
   "outputs": [],
   "source": [
    "for i in range(len(mem_park_df)):\n",
    "    if (mem_park_df.loc[i,'Basketball'] != 'no'):\n",
    "        mem_park_df.loc[i,'Basketball'] = 'yes'"
   ]
  },
  {
   "cell_type": "markdown",
   "metadata": {},
   "source": [
    "##### Concession"
   ]
  },
  {
   "cell_type": "code",
   "execution_count": 13,
   "metadata": {},
   "outputs": [
    {
     "data": {
      "text/plain": [
       "no             134\n",
       "yes             12\n",
       "yes  closed      1\n",
       "Name: Concession, dtype: int64"
      ]
     },
     "execution_count": 13,
     "metadata": {},
     "output_type": "execute_result"
    }
   ],
   "source": [
    "# Viewing the count of the differetn values\n",
    "mem_park_df['Concession'].value_counts()"
   ]
  },
  {
   "cell_type": "code",
   "execution_count": 14,
   "metadata": {},
   "outputs": [],
   "source": [
    "for i in range(len(mem_park_df)):\n",
    "    if (mem_park_df.loc[i,'Concession'] != 'no'):\n",
    "        mem_park_df.loc[i,'Concession'] = 'yes'"
   ]
  },
  {
   "cell_type": "markdown",
   "metadata": {},
   "source": [
    "##### Fountains"
   ]
  },
  {
   "cell_type": "code",
   "execution_count": 15,
   "metadata": {},
   "outputs": [
    {
     "data": {
      "text/plain": [
       "no     110\n",
       "yes     34\n",
       "2        1\n",
       "Name: Fountains, dtype: int64"
      ]
     },
     "execution_count": 15,
     "metadata": {},
     "output_type": "execute_result"
    }
   ],
   "source": [
    "# Viewing the count of the differetn values\n",
    "mem_park_df['Fountains'].value_counts()"
   ]
  },
  {
   "cell_type": "code",
   "execution_count": 16,
   "metadata": {},
   "outputs": [],
   "source": [
    "for i in range(len(mem_park_df)):\n",
    "    if (mem_park_df.loc[i,'Fountains'] != 'no'):\n",
    "        mem_park_df.loc[i,'Fountains'] = 'yes'"
   ]
  },
  {
   "cell_type": "markdown",
   "metadata": {},
   "source": [
    "##### Grills"
   ]
  },
  {
   "cell_type": "code",
   "execution_count": 17,
   "metadata": {},
   "outputs": [
    {
     "data": {
      "text/plain": [
       "no               140\n",
       "yes                4\n",
       "4 at Pavilion      1\n",
       "Name: Grills, dtype: int64"
      ]
     },
     "execution_count": 17,
     "metadata": {},
     "output_type": "execute_result"
    }
   ],
   "source": [
    "# Viewing the count of the differetn values\n",
    "mem_park_df['Grills'].value_counts()"
   ]
  },
  {
   "cell_type": "code",
   "execution_count": 18,
   "metadata": {},
   "outputs": [],
   "source": [
    "for i in range(len(mem_park_df)):\n",
    "    if (mem_park_df.loc[i,'Grills'] != 'no'):\n",
    "        mem_park_df.loc[i,'Grills'] = 'yes'"
   ]
  },
  {
   "cell_type": "markdown",
   "metadata": {},
   "source": [
    "##### Off Street Parking"
   ]
  },
  {
   "cell_type": "code",
   "execution_count": 19,
   "metadata": {},
   "outputs": [
    {
     "data": {
      "text/plain": [
       "yes           66\n",
       "no            63\n",
       "at school     11\n",
       "yes/ gated     7\n",
       "in center      1\n",
       "Name: Off_Street_Parking, dtype: int64"
      ]
     },
     "execution_count": 19,
     "metadata": {},
     "output_type": "execute_result"
    }
   ],
   "source": [
    "# Viewing the count of the differetn values\n",
    "mem_park_df['Off_Street_Parking'].value_counts()"
   ]
  },
  {
   "cell_type": "code",
   "execution_count": 20,
   "metadata": {},
   "outputs": [],
   "source": [
    "for i in range(len(mem_park_df)):\n",
    "    if (mem_park_df.loc[i,'Off_Street_Parking'] != 'no'):\n",
    "        mem_park_df.loc[i,'Off_Street_Parking'] = 'yes'"
   ]
  },
  {
   "cell_type": "markdown",
   "metadata": {},
   "source": [
    "##### Pavilions"
   ]
  },
  {
   "cell_type": "code",
   "execution_count": 21,
   "metadata": {},
   "outputs": [
    {
     "data": {
      "text/plain": [
       "no     89\n",
       "yes    47\n",
       "2       5\n",
       "3       2\n",
       "1       1\n",
       "7       1\n",
       "Name: Pavilions, dtype: int64"
      ]
     },
     "execution_count": 21,
     "metadata": {},
     "output_type": "execute_result"
    }
   ],
   "source": [
    "# Viewing the count of the differetn values\n",
    "mem_park_df['Pavilions'].value_counts()"
   ]
  },
  {
   "cell_type": "code",
   "execution_count": 22,
   "metadata": {},
   "outputs": [],
   "source": [
    "for i in range(len(mem_park_df)):\n",
    "    if (mem_park_df.loc[i,'Pavilions'] != 'no'):\n",
    "        mem_park_df.loc[i,'Pavilions'] = 'yes'"
   ]
  },
  {
   "cell_type": "markdown",
   "metadata": {},
   "source": [
    "##### Picnic Tables"
   ]
  },
  {
   "cell_type": "code",
   "execution_count": 23,
   "metadata": {},
   "outputs": [
    {
     "data": {
      "text/plain": [
       "no     113\n",
       "yes     28\n",
       "2        2\n",
       "6        1\n",
       "10       1\n",
       "Name: Picnic_Tables, dtype: int64"
      ]
     },
     "execution_count": 23,
     "metadata": {},
     "output_type": "execute_result"
    }
   ],
   "source": [
    "# Viewing the count of the differetn values\n",
    "mem_park_df['Picnic_Tables'].value_counts()"
   ]
  },
  {
   "cell_type": "code",
   "execution_count": 24,
   "metadata": {},
   "outputs": [],
   "source": [
    "for i in range(len(mem_park_df)):\n",
    "    if (mem_park_df.loc[i,'Picnic_Tables'] != 'no'):\n",
    "        mem_park_df.loc[i,'Picnic_Tables'] = 'yes'"
   ]
  },
  {
   "cell_type": "markdown",
   "metadata": {},
   "source": [
    "##### Playground"
   ]
  },
  {
   "cell_type": "code",
   "execution_count": 25,
   "metadata": {},
   "outputs": [
    {
     "data": {
      "text/plain": [
       "yes    76\n",
       "no     68\n",
       "2       1\n",
       "Name: Playground, dtype: int64"
      ]
     },
     "execution_count": 25,
     "metadata": {},
     "output_type": "execute_result"
    }
   ],
   "source": [
    "# Viewing the count of the differetn values\n",
    "mem_park_df['Playground'].value_counts()"
   ]
  },
  {
   "cell_type": "code",
   "execution_count": 26,
   "metadata": {},
   "outputs": [],
   "source": [
    "for i in range(len(mem_park_df)):\n",
    "    if (mem_park_df.loc[i,'Playground'] != 'no'):\n",
    "        mem_park_df.loc[i,'Playground'] = 'yes'"
   ]
  },
  {
   "cell_type": "markdown",
   "metadata": {},
   "source": [
    "##### Pools"
   ]
  },
  {
   "cell_type": "code",
   "execution_count": 27,
   "metadata": {},
   "outputs": [
    {
     "data": {
      "text/plain": [
       "no         130\n",
       "Outdoor     12\n",
       "Indoor       2\n",
       "indoor       1\n",
       "Name: Pools, dtype: int64"
      ]
     },
     "execution_count": 27,
     "metadata": {},
     "output_type": "execute_result"
    }
   ],
   "source": [
    "# Viewing the count of the differetn values\n",
    "mem_park_df['Pools'].value_counts()"
   ]
  },
  {
   "cell_type": "code",
   "execution_count": 28,
   "metadata": {},
   "outputs": [],
   "source": [
    "for i in range(len(mem_park_df)):\n",
    "    if (mem_park_df.loc[i,'Pools'] != 'no'):\n",
    "        mem_park_df.loc[i,'Pools'] = 'yes'"
   ]
  },
  {
   "cell_type": "markdown",
   "metadata": {},
   "source": [
    "##### Restrooms"
   ]
  },
  {
   "cell_type": "code",
   "execution_count": 29,
   "metadata": {},
   "outputs": [
    {
     "data": {
      "text/plain": [
       "no                       112\n",
       "in center                 17\n",
       "yes                       14\n",
       "in center & poolhouse      2\n",
       "tennis center              1\n",
       "yes closed                 1\n",
       "In Pool House              1\n",
       "Name: Restrooms, dtype: int64"
      ]
     },
     "execution_count": 29,
     "metadata": {},
     "output_type": "execute_result"
    }
   ],
   "source": [
    "# Viewing the count of the differetn values\n",
    "mem_park_df['Restrooms'].value_counts()"
   ]
  },
  {
   "cell_type": "code",
   "execution_count": 30,
   "metadata": {},
   "outputs": [],
   "source": [
    "for i in range(len(mem_park_df)):\n",
    "    if (mem_park_df.loc[i,'Restrooms'] != 'no'):\n",
    "        mem_park_df.loc[i,'Restrooms'] = 'yes'"
   ]
  },
  {
   "cell_type": "markdown",
   "metadata": {},
   "source": [
    "##### Tennis Courts"
   ]
  },
  {
   "cell_type": "code",
   "execution_count": 31,
   "metadata": {},
   "outputs": [
    {
     "data": {
      "text/plain": [
       "no                        133\n",
       "2 outdoor                   2\n",
       "4 outdoor                   2\n",
       "2- outdoor                  1\n",
       "2 indoor and 4 outdoor      1\n",
       "4 in/ 8 out                 1\n",
       "8 outdoor                   1\n",
       "4 outdoor with lights       1\n",
       "8 outdoor (L)               1\n",
       "8 outdoor with lights       1\n",
       "4 indoor 8 outdoor          1\n",
       "Name: Tennis_Courts, dtype: int64"
      ]
     },
     "execution_count": 31,
     "metadata": {},
     "output_type": "execute_result"
    }
   ],
   "source": [
    "# Viewing the count of the differetn values\n",
    "mem_park_df['Tennis_Courts'].value_counts()"
   ]
  },
  {
   "cell_type": "code",
   "execution_count": 32,
   "metadata": {},
   "outputs": [],
   "source": [
    "for i in range(len(mem_park_df)):\n",
    "    if (mem_park_df.loc[i,'Tennis_Courts'] != 'no'):\n",
    "        mem_park_df.loc[i,'Tennis_Courts'] = 'yes'"
   ]
  },
  {
   "cell_type": "markdown",
   "metadata": {},
   "source": [
    "##### Trash"
   ]
  },
  {
   "cell_type": "code",
   "execution_count": 33,
   "metadata": {},
   "outputs": [
    {
     "data": {
      "text/plain": [
       "False    114\n",
       "True      31\n",
       "Name: Trash, dtype: int64"
      ]
     },
     "execution_count": 33,
     "metadata": {},
     "output_type": "execute_result"
    }
   ],
   "source": [
    "# Viewing the count of the differetn values\n",
    "mem_park_df['Trash'].value_counts()"
   ]
  },
  {
   "cell_type": "code",
   "execution_count": 34,
   "metadata": {},
   "outputs": [],
   "source": [
    "for i in range(len(mem_park_df)):\n",
    "    if (mem_park_df.loc[i,'Trash'] == False):\n",
    "        mem_park_df.loc[i,'Trash'] = 'no'\n",
    "    elif (mem_park_df.loc[i,'Trash'] == True):\n",
    "        mem_park_df.loc[i,'Trash'] = 'yes'"
   ]
  },
  {
   "cell_type": "markdown",
   "metadata": {},
   "source": [
    "##### Walking Trails"
   ]
  },
  {
   "cell_type": "code",
   "execution_count": 35,
   "metadata": {},
   "outputs": [
    {
     "data": {
      "text/plain": [
       "no        87\n",
       ".5 mi     25\n",
       "1 mi      10\n",
       ".33 mi     4\n",
       ".75 mi     4\n",
       "yes        3\n",
       ".2 mi      3\n",
       "1.5 mi     2\n",
       ".25 mi     2\n",
       "1.7 mi     1\n",
       "2 mi       1\n",
       "1/2 mi     1\n",
       "1/3 mi     1\n",
       ".15 mi     1\n",
       ".1 mi      1\n",
       "Name: Walking_Trails, dtype: int64"
      ]
     },
     "execution_count": 35,
     "metadata": {},
     "output_type": "execute_result"
    }
   ],
   "source": [
    "# Viewing the count of the differetn values\n",
    "mem_park_df['Walking_Trails'].value_counts()"
   ]
  },
  {
   "cell_type": "code",
   "execution_count": 36,
   "metadata": {},
   "outputs": [],
   "source": [
    "for i in range(len(mem_park_df)):\n",
    "    if (mem_park_df.loc[i,'Walking_Trails'] != 'no'):\n",
    "        mem_park_df.loc[i,'Walking_Trails'] = 'yes'"
   ]
  },
  {
   "cell_type": "code",
   "execution_count": 37,
   "metadata": {},
   "outputs": [
    {
     "data": {
      "text/plain": [
       "(193, 20)"
      ]
     },
     "execution_count": 37,
     "metadata": {},
     "output_type": "execute_result"
    }
   ],
   "source": [
    "mem_park_df.shape"
   ]
  },
  {
   "cell_type": "markdown",
   "metadata": {},
   "source": [
    "### Filtering out rows\n",
    "Here will be filtered out the rows that have not a _Park Name_, this is to simply the use of APIs for retriving the longitude and latitude.\n",
    "Also the row containing NaN value in the column of _Acres Parks_ will be removed"
   ]
  },
  {
   "cell_type": "code",
   "execution_count": 38,
   "metadata": {},
   "outputs": [],
   "source": [
    "mem_park_df = mem_park_df[mem_park_df['Park_Name'].notna()]"
   ]
  },
  {
   "cell_type": "code",
   "execution_count": 39,
   "metadata": {},
   "outputs": [],
   "source": [
    "mem_park_df = mem_park_df[mem_park_df['Acres_park'].notnull()]"
   ]
  },
  {
   "cell_type": "markdown",
   "metadata": {},
   "source": [
    "## Re-indexing"
   ]
  },
  {
   "cell_type": "code",
   "execution_count": 40,
   "metadata": {},
   "outputs": [],
   "source": [
    "mem_park_df = mem_park_df.reset_index(drop=True)"
   ]
  },
  {
   "cell_type": "code",
   "execution_count": 41,
   "metadata": {},
   "outputs": [
    {
     "data": {
      "text/html": [
       "<div>\n",
       "<style scoped>\n",
       "    .dataframe tbody tr th:only-of-type {\n",
       "        vertical-align: middle;\n",
       "    }\n",
       "\n",
       "    .dataframe tbody tr th {\n",
       "        vertical-align: top;\n",
       "    }\n",
       "\n",
       "    .dataframe thead th {\n",
       "        text-align: right;\n",
       "    }\n",
       "</style>\n",
       "<table border=\"1\" class=\"dataframe\">\n",
       "  <thead>\n",
       "    <tr style=\"text-align: right;\">\n",
       "      <th></th>\n",
       "      <th>Park_Name</th>\n",
       "      <th>Council_District</th>\n",
       "      <th>LOCATION</th>\n",
       "      <th>ZipCode</th>\n",
       "      <th>Ballfield</th>\n",
       "      <th>Basketball</th>\n",
       "      <th>Benches</th>\n",
       "      <th>Concession</th>\n",
       "      <th>Fountains</th>\n",
       "      <th>Grills</th>\n",
       "      <th>Off_Street_Parking</th>\n",
       "      <th>Pavilions</th>\n",
       "      <th>Picnic_Tables</th>\n",
       "      <th>Playground</th>\n",
       "      <th>Pools</th>\n",
       "      <th>Restrooms</th>\n",
       "      <th>Tennis_Courts</th>\n",
       "      <th>Trash</th>\n",
       "      <th>Walking_Trails</th>\n",
       "      <th>Acres_park</th>\n",
       "    </tr>\n",
       "  </thead>\n",
       "  <tbody>\n",
       "    <tr>\n",
       "      <th>0</th>\n",
       "      <td>Frayser Park</td>\n",
       "      <td>7</td>\n",
       "      <td>2907 N. Watkins</td>\n",
       "      <td>38127.0</td>\n",
       "      <td>yes</td>\n",
       "      <td>yes</td>\n",
       "      <td>no</td>\n",
       "      <td>no</td>\n",
       "      <td>no</td>\n",
       "      <td>no</td>\n",
       "      <td>yes</td>\n",
       "      <td>yes</td>\n",
       "      <td>no</td>\n",
       "      <td>yes</td>\n",
       "      <td>yes</td>\n",
       "      <td>yes</td>\n",
       "      <td>yes</td>\n",
       "      <td>no</td>\n",
       "      <td>yes</td>\n",
       "      <td>40.54</td>\n",
       "    </tr>\n",
       "    <tr>\n",
       "      <th>1</th>\n",
       "      <td>Cash Park</td>\n",
       "      <td>6</td>\n",
       "      <td>Ford Rd @ Deerskin Dr</td>\n",
       "      <td>38109.0</td>\n",
       "      <td>yes</td>\n",
       "      <td>yes</td>\n",
       "      <td>no</td>\n",
       "      <td>no</td>\n",
       "      <td>no</td>\n",
       "      <td>no</td>\n",
       "      <td>yes</td>\n",
       "      <td>no</td>\n",
       "      <td>no</td>\n",
       "      <td>yes</td>\n",
       "      <td>no</td>\n",
       "      <td>no</td>\n",
       "      <td>no</td>\n",
       "      <td>no</td>\n",
       "      <td>yes</td>\n",
       "      <td>22.00</td>\n",
       "    </tr>\n",
       "    <tr>\n",
       "      <th>2</th>\n",
       "      <td>Germanshire Park</td>\n",
       "      <td>2</td>\n",
       "      <td>Germantown Rd. @ Germanshire Rd.</td>\n",
       "      <td>38125.0</td>\n",
       "      <td>no</td>\n",
       "      <td>no</td>\n",
       "      <td>no</td>\n",
       "      <td>no</td>\n",
       "      <td>no</td>\n",
       "      <td>no</td>\n",
       "      <td>yes</td>\n",
       "      <td>yes</td>\n",
       "      <td>no</td>\n",
       "      <td>yes</td>\n",
       "      <td>no</td>\n",
       "      <td>no</td>\n",
       "      <td>no</td>\n",
       "      <td>no</td>\n",
       "      <td>yes</td>\n",
       "      <td>14.00</td>\n",
       "    </tr>\n",
       "    <tr>\n",
       "      <th>3</th>\n",
       "      <td>LE Brown</td>\n",
       "      <td>6</td>\n",
       "      <td>617 S. Orleans</td>\n",
       "      <td>38126.0</td>\n",
       "      <td>yes</td>\n",
       "      <td>yes</td>\n",
       "      <td>no</td>\n",
       "      <td>no</td>\n",
       "      <td>no</td>\n",
       "      <td>no</td>\n",
       "      <td>no</td>\n",
       "      <td>yes</td>\n",
       "      <td>no</td>\n",
       "      <td>yes</td>\n",
       "      <td>yes</td>\n",
       "      <td>yes</td>\n",
       "      <td>no</td>\n",
       "      <td>no</td>\n",
       "      <td>no</td>\n",
       "      <td>6.00</td>\n",
       "    </tr>\n",
       "    <tr>\n",
       "      <th>4</th>\n",
       "      <td>Booth Park</td>\n",
       "      <td>6</td>\n",
       "      <td>S. Parkway @ Texas</td>\n",
       "      <td>38106.0</td>\n",
       "      <td>no</td>\n",
       "      <td>yes</td>\n",
       "      <td>no</td>\n",
       "      <td>no</td>\n",
       "      <td>no</td>\n",
       "      <td>no</td>\n",
       "      <td>no</td>\n",
       "      <td>no</td>\n",
       "      <td>no</td>\n",
       "      <td>no</td>\n",
       "      <td>no</td>\n",
       "      <td>no</td>\n",
       "      <td>no</td>\n",
       "      <td>no</td>\n",
       "      <td>no</td>\n",
       "      <td>3.50</td>\n",
       "    </tr>\n",
       "    <tr>\n",
       "      <th>5</th>\n",
       "      <td>Medal of Honor Park</td>\n",
       "      <td>3</td>\n",
       "      <td>Tchulahoma @  Oak Lake</td>\n",
       "      <td>38118.0</td>\n",
       "      <td>no</td>\n",
       "      <td>no</td>\n",
       "      <td>no</td>\n",
       "      <td>no</td>\n",
       "      <td>no</td>\n",
       "      <td>no</td>\n",
       "      <td>yes</td>\n",
       "      <td>no</td>\n",
       "      <td>no</td>\n",
       "      <td>no</td>\n",
       "      <td>no</td>\n",
       "      <td>no</td>\n",
       "      <td>no</td>\n",
       "      <td>no</td>\n",
       "      <td>yes</td>\n",
       "      <td>20.00</td>\n",
       "    </tr>\n",
       "    <tr>\n",
       "      <th>6</th>\n",
       "      <td>Westwood Park</td>\n",
       "      <td>6</td>\n",
       "      <td>810 Western Park</td>\n",
       "      <td>38109.0</td>\n",
       "      <td>no</td>\n",
       "      <td>yes</td>\n",
       "      <td>yes</td>\n",
       "      <td>no</td>\n",
       "      <td>no</td>\n",
       "      <td>no</td>\n",
       "      <td>yes</td>\n",
       "      <td>no</td>\n",
       "      <td>no</td>\n",
       "      <td>yes</td>\n",
       "      <td>yes</td>\n",
       "      <td>yes</td>\n",
       "      <td>no</td>\n",
       "      <td>yes</td>\n",
       "      <td>yes</td>\n",
       "      <td>16.20</td>\n",
       "    </tr>\n",
       "    <tr>\n",
       "      <th>7</th>\n",
       "      <td>Williamson Park</td>\n",
       "      <td>5</td>\n",
       "      <td>292 Williamson</td>\n",
       "      <td>38112.0</td>\n",
       "      <td>no</td>\n",
       "      <td>no</td>\n",
       "      <td>no</td>\n",
       "      <td>no</td>\n",
       "      <td>no</td>\n",
       "      <td>no</td>\n",
       "      <td>no</td>\n",
       "      <td>no</td>\n",
       "      <td>no</td>\n",
       "      <td>no</td>\n",
       "      <td>no</td>\n",
       "      <td>no</td>\n",
       "      <td>no</td>\n",
       "      <td>no</td>\n",
       "      <td>no</td>\n",
       "      <td>4.50</td>\n",
       "    </tr>\n",
       "    <tr>\n",
       "      <th>8</th>\n",
       "      <td>Crump Park</td>\n",
       "      <td>6</td>\n",
       "      <td>Delaware @ Crump</td>\n",
       "      <td>38106.0</td>\n",
       "      <td>no</td>\n",
       "      <td>no</td>\n",
       "      <td>no</td>\n",
       "      <td>no</td>\n",
       "      <td>no</td>\n",
       "      <td>no</td>\n",
       "      <td>no</td>\n",
       "      <td>no</td>\n",
       "      <td>yes</td>\n",
       "      <td>no</td>\n",
       "      <td>no</td>\n",
       "      <td>no</td>\n",
       "      <td>no</td>\n",
       "      <td>no</td>\n",
       "      <td>no</td>\n",
       "      <td>4.30</td>\n",
       "    </tr>\n",
       "    <tr>\n",
       "      <th>9</th>\n",
       "      <td>Robert Church Park</td>\n",
       "      <td>6</td>\n",
       "      <td>Beale St. @ Fourth</td>\n",
       "      <td>38126.0</td>\n",
       "      <td>no</td>\n",
       "      <td>no</td>\n",
       "      <td>no</td>\n",
       "      <td>no</td>\n",
       "      <td>no</td>\n",
       "      <td>no</td>\n",
       "      <td>no</td>\n",
       "      <td>no</td>\n",
       "      <td>yes</td>\n",
       "      <td>no</td>\n",
       "      <td>no</td>\n",
       "      <td>no</td>\n",
       "      <td>no</td>\n",
       "      <td>no</td>\n",
       "      <td>no</td>\n",
       "      <td>7.68</td>\n",
       "    </tr>\n",
       "  </tbody>\n",
       "</table>\n",
       "</div>"
      ],
      "text/plain": [
       "             Park_Name  Council_District                          LOCATION  \\\n",
       "0         Frayser Park                 7                   2907 N. Watkins   \n",
       "1            Cash Park                 6             Ford Rd @ Deerskin Dr   \n",
       "2     Germanshire Park                 2  Germantown Rd. @ Germanshire Rd.   \n",
       "3             LE Brown                 6                    617 S. Orleans   \n",
       "4           Booth Park                 6                S. Parkway @ Texas   \n",
       "5  Medal of Honor Park                 3            Tchulahoma @  Oak Lake   \n",
       "6        Westwood Park                 6                  810 Western Park   \n",
       "7      Williamson Park                 5                    292 Williamson   \n",
       "8           Crump Park                 6                  Delaware @ Crump   \n",
       "9   Robert Church Park                 6                Beale St. @ Fourth   \n",
       "\n",
       "   ZipCode Ballfield Basketball Benches Concession Fountains Grills  \\\n",
       "0  38127.0       yes        yes      no         no        no     no   \n",
       "1  38109.0       yes        yes      no         no        no     no   \n",
       "2  38125.0        no         no      no         no        no     no   \n",
       "3  38126.0       yes        yes      no         no        no     no   \n",
       "4  38106.0        no        yes      no         no        no     no   \n",
       "5  38118.0        no         no      no         no        no     no   \n",
       "6  38109.0        no        yes     yes         no        no     no   \n",
       "7  38112.0        no         no      no         no        no     no   \n",
       "8  38106.0        no         no      no         no        no     no   \n",
       "9  38126.0        no         no      no         no        no     no   \n",
       "\n",
       "  Off_Street_Parking Pavilions Picnic_Tables Playground Pools Restrooms  \\\n",
       "0                yes       yes            no        yes   yes       yes   \n",
       "1                yes        no            no        yes    no        no   \n",
       "2                yes       yes            no        yes    no        no   \n",
       "3                 no       yes            no        yes   yes       yes   \n",
       "4                 no        no            no         no    no        no   \n",
       "5                yes        no            no         no    no        no   \n",
       "6                yes        no            no        yes   yes       yes   \n",
       "7                 no        no            no         no    no        no   \n",
       "8                 no        no           yes         no    no        no   \n",
       "9                 no        no           yes         no    no        no   \n",
       "\n",
       "  Tennis_Courts Trash Walking_Trails  Acres_park  \n",
       "0           yes    no            yes       40.54  \n",
       "1            no    no            yes       22.00  \n",
       "2            no    no            yes       14.00  \n",
       "3            no    no             no        6.00  \n",
       "4            no    no             no        3.50  \n",
       "5            no    no            yes       20.00  \n",
       "6            no   yes            yes       16.20  \n",
       "7            no    no             no        4.50  \n",
       "8            no    no             no        4.30  \n",
       "9            no    no             no        7.68  "
      ]
     },
     "execution_count": 41,
     "metadata": {},
     "output_type": "execute_result"
    }
   ],
   "source": [
    "mem_park_df.head(10)"
   ]
  },
  {
   "cell_type": "markdown",
   "metadata": {},
   "source": [
    "## Saving the editing\n",
    "Now, the new dataframe will be safed into another _.CSV_ file, that will be used in the Web App"
   ]
  },
  {
   "cell_type": "code",
   "execution_count": 42,
   "metadata": {},
   "outputs": [],
   "source": [
    "mem_park_df.to_csv('Memphis_Park.csv',index=False);"
   ]
  },
  {
   "cell_type": "code",
   "execution_count": null,
   "metadata": {},
   "outputs": [],
   "source": []
  }
 ],
 "metadata": {
  "kernelspec": {
   "display_name": "Python 3",
   "language": "python",
   "name": "python3"
  },
  "language_info": {
   "codemirror_mode": {
    "name": "ipython",
    "version": 3
   },
   "file_extension": ".py",
   "mimetype": "text/x-python",
   "name": "python",
   "nbconvert_exporter": "python",
   "pygments_lexer": "ipython3",
   "version": "3.6.10"
  }
 },
 "nbformat": 4,
 "nbformat_minor": 4
}
